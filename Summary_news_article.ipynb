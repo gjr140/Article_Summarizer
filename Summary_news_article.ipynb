{
 "cells": [
  {
   "cell_type": "code",
   "execution_count": 1,
   "id": "6f0228a0-a5e8-4904-baaa-20d04bd05290",
   "metadata": {},
   "outputs": [],
   "source": [
    "from transformers import pipeline"
   ]
  },
  {
   "cell_type": "code",
   "execution_count": 2,
   "id": "4e55d162-a3aa-4a96-ade9-a77397cc3d90",
   "metadata": {},
   "outputs": [
    {
     "name": "stderr",
     "output_type": "stream",
     "text": [
      "No model was supplied, defaulted to sshleifer/distilbart-cnn-12-6 and revision a4f8f3e (https://huggingface.co/sshleifer/distilbart-cnn-12-6).\n",
      "Using a pipeline without specifying a model name and revision in production is not recommended.\n"
     ]
    },
    {
     "data": {
      "application/vnd.jupyter.widget-view+json": {
       "model_id": "01bf8b15128243529e59eadfe0de7fec",
       "version_major": 2,
       "version_minor": 0
      },
      "text/plain": [
       "Downloading (…)lve/main/config.json:   0%|          | 0.00/1.80k [00:00<?, ?B/s]"
      ]
     },
     "metadata": {},
     "output_type": "display_data"
    },
    {
     "name": "stderr",
     "output_type": "stream",
     "text": [
      "C:\\Users\\gjrre\\anaconda3\\envs\\mlenv\\lib\\site-packages\\huggingface_hub\\file_download.py:133: UserWarning: `huggingface_hub` cache-system uses symlinks by default to efficiently store duplicated files but your machine does not support them in C:\\Users\\gjrre\\.cache\\huggingface\\hub. Caching files will still work but in a degraded version that might require more space on your disk. This warning can be disabled by setting the `HF_HUB_DISABLE_SYMLINKS_WARNING` environment variable. For more details, see https://huggingface.co/docs/huggingface_hub/how-to-cache#limitations.\n",
      "To support symlinks on Windows, you either need to activate Developer Mode or to run Python as an administrator. In order to see activate developer mode, see this article: https://docs.microsoft.com/en-us/windows/apps/get-started/enable-your-device-for-development\n",
      "  warnings.warn(message)\n"
     ]
    },
    {
     "data": {
      "application/vnd.jupyter.widget-view+json": {
       "model_id": "2a56608689c84389ae7e2a43ca4f5c38",
       "version_major": 2,
       "version_minor": 0
      },
      "text/plain": [
       "Downloading pytorch_model.bin:   0%|          | 0.00/1.22G [00:00<?, ?B/s]"
      ]
     },
     "metadata": {},
     "output_type": "display_data"
    },
    {
     "data": {
      "application/vnd.jupyter.widget-view+json": {
       "model_id": "ab470344d2284bd892c39eca2820b0f8",
       "version_major": 2,
       "version_minor": 0
      },
      "text/plain": [
       "Downloading (…)okenizer_config.json:   0%|          | 0.00/26.0 [00:00<?, ?B/s]"
      ]
     },
     "metadata": {},
     "output_type": "display_data"
    },
    {
     "data": {
      "application/vnd.jupyter.widget-view+json": {
       "model_id": "11b03a9ec7694b499c5a16176d8d26c0",
       "version_major": 2,
       "version_minor": 0
      },
      "text/plain": [
       "Downloading (…)olve/main/vocab.json:   0%|          | 0.00/899k [00:00<?, ?B/s]"
      ]
     },
     "metadata": {},
     "output_type": "display_data"
    },
    {
     "data": {
      "application/vnd.jupyter.widget-view+json": {
       "model_id": "e9a7a731003344e9b46f7ccf84c956b9",
       "version_major": 2,
       "version_minor": 0
      },
      "text/plain": [
       "Downloading (…)olve/main/merges.txt:   0%|          | 0.00/456k [00:00<?, ?B/s]"
      ]
     },
     "metadata": {},
     "output_type": "display_data"
    }
   ],
   "source": [
    "summarizer = pipeline('summarization')"
   ]
  },
  {
   "cell_type": "code",
   "execution_count": 12,
   "id": "41293a83-0344-4d8f-9c1b-f556d2f8f4a2",
   "metadata": {},
   "outputs": [],
   "source": [
    "article = \"\"\"\n",
    "Eating cassava flour helped save the lives of four children found alive in the Amazon jungle more than a month after their plane crashed, \n",
    "according to a Colombian military special forces official.\n",
    "\n",
    "The children ate “three kilograms (six pounds) of farina,” a coarse cassava flour commonly used by indigenous tribes in the Amazon region, \n",
    "said spokesperson Pedro Arnulfo Sánchez Suárez.\n",
    "\n",
    "“Days after the crash, they ate the farina which they had carried there… but they (eventually) ran out of food and decided to \n",
    "look for a place where they could stay alive,” Suárez said.\n",
    "\n",
    "“They were malnourished but fully conscious and lucid when we found them,” he added.\n",
    "\n",
    "“Their indigenous origins allowed them to acquire a certain immunity against diseases in the jungle and having knowledge of the jungle itself\n",
    "– knowing what to eat and what not to eat – as well as finding water kept them alive – \n",
    "which would not have been possible (if they) were not used to that type of hostile environment.”\n",
    "\n",
    "A soldier stands next to the wreckage of a plane during the search for child survivors from a Cessna 206 plane \n",
    "that crashed in the jungle more than two weeks ago in the jungles of Caqueta, Colombia May 19, 2023. \n",
    "Missing children found after 40 days in Amazon survived like 'children of the jungle,' Colombian president says\n",
    "The four children – 13-year-old Lesly Jacobombaire Mucutuy, 9-year-old Soleiny Jacobombaire Mucutuy, \n",
    "4-year-old Tien Ranoque Mucutuy and infant Cristin Ranoque Mucutuy – are currently recovering in a\n",
    "hospital in the Colombian capital Bogota after being taken there by air ambulance flown by the Colombian Air Force on Saturday, officials said.\n",
    "\n",
    "Medical reports say they are dehydrated and still “cannot eat food” – but are well and out of danger. \n",
    "“What’s required now is to stabilize (their health),” Colombian Defense Minister Ivan Velasquez\n",
    "told reporters who were gathered outside the hospital.\n",
    "\n",
    "The children’s mother Magdalena Mucutuy Valencia was killed in the plane crash on May 1, leaving\n",
    "them alone and stranded in the Amazon jungle. The plane’s pilot Hernando Murcia Morales and Yarupari \n",
    "indigenous leader Herman Mendoza Hernández were also killed in the accident.\n",
    "\n",
    "The children’s disappearance sparked a massive military-led search operation that saw more than one \n",
    "hundred Colombian special forces troops and over 70 indigenous scouts combing the deep forest.\n",
    "\n",
    "The four were eventually found in an area clear of trees.\n",
    "\n",
    "They told officials that they had found a dog – a Belgian Shepherd search dog named Wilson that \n",
    "belonged to special forces. The dog had gone missing on May 18, Suárez said. \n",
    "“The kids told us that they spent three or four days with Wilson and that they (found) him quite skinny,” he added.\n",
    "\n",
    "Hopes for the children’s survival waned as the weeks went on.\n",
    "\n",
    "Their relatives shared that they endured “many sleepless nights worrying” until the children were found.\n",
    "\n",
    "Colombian President Gustavo Petro, who visited the children in hospital on Saturday, \n",
    "celebrated their return and said their survival “would be remembered in history.”\n",
    "\n",
    "“They are children of the jungle and now they are children of Colombia,” Petro said.\n",
    "\"\"\""
   ]
  },
  {
   "cell_type": "code",
   "execution_count": 17,
   "id": "b0f6a756-8f54-4d98-9bdc-c6e19bddcb5b",
   "metadata": {},
   "outputs": [],
   "source": [
    "summary = summarizer(article, max_length = 130, min_length = 10, do_sample = False)"
   ]
  },
  {
   "cell_type": "code",
   "execution_count": 21,
   "id": "23added6-6600-4764-a2ee-b0657dfe66df",
   "metadata": {},
   "outputs": [
    {
     "data": {
      "text/plain": [
       "\" Missing children found after 40 days in Amazon survived like 'children of the jungle,' Colombian president says . Four children found alive in Amazon jungle more than a month after their plane crashed . Children ate “three kilograms (six pounds) of farina,” a coarse cassava flour commonly used by indigenous tribes in the Amazon region, a Colombian military special forces official said .\""
      ]
     },
     "execution_count": 21,
     "metadata": {},
     "output_type": "execute_result"
    }
   ],
   "source": [
    "summary[0]['summary_text']"
   ]
  },
  {
   "cell_type": "code",
   "execution_count": null,
   "id": "7495d565-66dd-421a-b9db-f70b23e64cb2",
   "metadata": {},
   "outputs": [],
   "source": []
  }
 ],
 "metadata": {
  "kernelspec": {
   "display_name": "Python 3 (ipykernel)",
   "language": "python",
   "name": "python3"
  },
  "language_info": {
   "codemirror_mode": {
    "name": "ipython",
    "version": 3
   },
   "file_extension": ".py",
   "mimetype": "text/x-python",
   "name": "python",
   "nbconvert_exporter": "python",
   "pygments_lexer": "ipython3",
   "version": "3.10.10"
  }
 },
 "nbformat": 4,
 "nbformat_minor": 5
}
